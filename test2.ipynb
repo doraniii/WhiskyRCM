{
 "cells": [
  {
   "cell_type": "code",
   "execution_count": 1,
   "metadata": {},
   "outputs": [],
   "source": [
    "import time\n",
    "import weaviate\n",
    "\n",
    "from selenium import webdriver\n",
    "from selenium.webdriver.common.by import By\n",
    "from selenium.webdriver.support.select import Select\n",
    "from selenium.webdriver.chrome.options import Options\n",
    "from selenium.webdriver.support.ui import WebDriverWait\n",
    "from selenium.webdriver.support import expected_conditions as EC\n",
    "from selenium.webdriver import ActionChains"
   ]
  },
  {
   "cell_type": "code",
   "execution_count": 2,
   "metadata": {},
   "outputs": [],
   "source": [
    "options = Options()\n",
    "# options.add_argument(\"--headless\")\n",
    "options.add_argument(\"start-maximized\")\n",
    "options.add_argument('--disable-dev-shm-usage')\n",
    "# 리눅스 서버같은 GUI환경이 지원안될 때 필요한 옵션\n",
    "options.add_argument(\"--disable-gpu\")\n",
    "options.add_argument(\"--no-sandbox\")\n",
    "options.add_argument('--remote-debugging-port=8903')\n",
    "\n",
    "url = 'https://whiskyadvocate.com/ratings-reviews'\n",
    "driver = webdriver.Chrome(options=options)"
   ]
  },
  {
   "cell_type": "code",
   "execution_count": 4,
   "metadata": {},
   "outputs": [
    {
     "name": "stdout",
     "output_type": "stream",
     "text": [
      "https://whiskyadvocate.com/ratings-reviews\n"
     ]
    }
   ],
   "source": [
    "minscore = 90\n",
    "maxscore = 99\n",
    "minprice = 1\n",
    "maxprice = 999\n",
    "subBtnEle = 'submit.button.mwFilter-submit.mwFormSubmit'\n",
    "\n",
    "driver.get(url)\n",
    "action = ActionChains(driver)\n",
    "\n",
    "min_score_input = driver.find_element(By.CSS_SELECTOR, 'input[name=\"filters[default][min_score]\"]')\n",
    "max_score_input = driver.find_element(By.CSS_SELECTOR, 'input[name=\"filters[default][max_score]\"]')\n",
    "driver.execute_script(\"arguments[0].setAttribute('value', '85')\", min_score_input)  # 최소값을 85로 설정\n",
    "driver.execute_script(\"arguments[0].setAttribute('value', '90')\", max_score_input)  # 최대값을 90으로 설정\n",
    "\n",
    "# slider_handle_min = driver.find_elements(By.CSS_SELECTOR, '.ui-slider-handle')[0]  # 첫 번째 핸들 (min)\n",
    "# slider_handle_max = driver.find_elements(By.CSS_SELECTOR, '.ui-slider-handle')[1]  # 두 번째 핸들 (max)\n",
    "# driver.execute_script(\"arguments[0].style.left = '40%'\", slider_handle_min)  # 핸들을 40%로 이동\n",
    "# driver.execute_script(\"arguments[0].style.left = '70%'\", slider_handle_max)  # 핸들을 70%로 이동\n",
    "\n",
    "# minScore = driver.find_element(By.NAME, 'filters[default][min_score]')\n",
    "# driver.execute_script(f\"arguments[0].setAttribute('value', '{minscore}');\", minScore)\n",
    "\n",
    "# maxScore = driver.find_element(By.NAME, 'filters[default][max_score]')\n",
    "# driver.execute_script(f\"arguments[0].setAttribute('value', '{maxscore}');\", maxScore)\n",
    "\n",
    "# minPrice = driver.find_element(By.NAME, 'filters[default][min_price]')\n",
    "# driver.execute_script(f\"arguments[0].setAttribute('value', '{minprice}')\", minPrice)\n",
    "# maxPrice = driver.find_element(By.NAME, 'filters[default][max_price]')\n",
    "# driver.execute_script(f\"arguments[0].setAttribute('value', '{maxprice}')\", maxPrice)\n",
    "\n",
    "searchBtn = driver.find_element(By.CLASS_NAME, subBtnEle)\n",
    "# action.move_to_element(driver.find_element(By.CLASS_NAME, subBtnEle)).perform()\n",
    "# searchBtn = WebDriverWait(driver, 10).until(EC.element_to_be_clickable((By.CLASS_NAME, subBtnEle)))\n",
    "searchBtn.click()\n",
    "\n",
    "# time.sleep(5)\n",
    "currentUrl = driver.current_url\n",
    "print(currentUrl)"
   ]
  }
 ],
 "metadata": {
  "kernelspec": {
   "display_name": "Python 3",
   "language": "python",
   "name": "python3"
  },
  "language_info": {
   "codemirror_mode": {
    "name": "ipython",
    "version": 3
   },
   "file_extension": ".py",
   "mimetype": "text/x-python",
   "name": "python",
   "nbconvert_exporter": "python",
   "pygments_lexer": "ipython3",
   "version": "3.12.3"
  }
 },
 "nbformat": 4,
 "nbformat_minor": 2
}
